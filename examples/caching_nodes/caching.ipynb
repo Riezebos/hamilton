{
 "cells": [
  {
   "cell_type": "markdown",
   "metadata": {},
   "source": [
    "# First-class Caching in Hamilton"
   ]
  },
  {
   "cell_type": "code",
   "execution_count": 1,
   "metadata": {},
   "outputs": [
    {
     "name": "stderr",
     "output_type": "stream",
     "text": [
      "/home/tjean/projects/dagworks/hamilton/venv/lib/python3.11/site-packages/pyspark/pandas/__init__.py:50: UserWarning: 'PYARROW_IGNORE_TIMEZONE' environment variable was not set. It is required to set this environment variable to '1' in both driver and executor sides if you use pyarrow>=2.0.0. pandas-on-Spark will set it for you but it does not work if there is a Spark context already launched.\n",
      "  warnings.warn(\n",
      "/home/tjean/projects/dagworks/hamilton/venv/lib/python3.11/site-packages/tqdm/auto.py:21: TqdmWarning: IProgress not found. Please update jupyter and ipywidgets. See https://ipywidgets.readthedocs.io/en/stable/user_install.html\n",
      "  from .autonotebook import tqdm as notebook_tqdm\n"
     ]
    }
   ],
   "source": [
    "import logging\n",
    "\n",
    "logger = logging.getLogger(\"hamilton.caching.fingerprinting\")\n",
    "logger.setLevel(logging.DEBUG)\n",
    "logger.addHandler(logging.StreamHandler())\n",
    "\n",
    "%load_ext hamilton.plugins.jupyter_magic"
   ]
  },
  {
   "cell_type": "markdown",
   "metadata": {},
   "source": [
    "# Fingerprinting\n",
    "Fingerprinting derives an identifier from a data object."
   ]
  },
  {
   "cell_type": "code",
   "execution_count": 2,
   "metadata": {},
   "outputs": [],
   "source": [
    "import pandas as pd\n",
    "from hamilton import driver\n",
    "from hamilton.caching.fingerprinting import FingerprintingAdapter"
   ]
  },
  {
   "cell_type": "code",
   "execution_count": 3,
   "metadata": {},
   "outputs": [],
   "source": [
    "%%cell_to_module primitives\n",
    "import pandas as pd\n",
    "\n",
    "def A() -> int:\n",
    "    return 7\n",
    "\n",
    "def B(A: int) -> float:\n",
    "    return float(A)\n",
    "\n",
    "def C(B: float, D: bool = True) -> bool:\n",
    "    return B != D\n",
    "\n",
    "def E(C: bool) -> str:\n",
    "    return \"hello-world\"\n",
    "\n",
    "def F(E: str) -> dict:\n",
    "    return {E: E*3}\n",
    "\n",
    "def G() -> pd.DataFrame:\n",
    "    return pd.DataFrame({\"a\": [323, 3235], \"b\": [\"hello\", \"vorld\"]})"
   ]
  },
  {
   "cell_type": "code",
   "execution_count": 4,
   "metadata": {},
   "outputs": [
    {
     "data": {
      "text/plain": [
       "{'A': 'jxTkX87qFnpaNt7dS-olQw==',\n",
       " 'B': 'Ad7r-oe5OMieyz3LTv_L4g==',\n",
       " 'C': '-CfPRi9ihI3zfF4elKTadA==',\n",
       " 'E': 'IJUxIYl1PeatR9_iDL6X7A==',\n",
       " 'F': 'eOXd-WuG4ZFy8yz1O9NH5uzyw1wzWbsypyuNNw==',\n",
       " 'G': 'TCtsLwovEJ2EIAYt60Q4_w36aBdTnSXVNPQpsA=='}"
      ]
     },
     "execution_count": 4,
     "metadata": {},
     "output_type": "execute_result"
    }
   ],
   "source": [
    "fingerprint_adapter = FingerprintingAdapter()\n",
    "dr = (\n",
    "    driver.Builder()\n",
    "    .with_modules(primitives)\n",
    "    .with_adapters(fingerprint_adapter)\n",
    "    .build()\n",
    ")\n",
    "dr.execute([\"A\", \"B\", \"C\", \"D\", \"E\", \"F\", \"G\"])\n",
    "\n",
    "fingerprint_adapter.run_fingerprints"
   ]
  },
  {
   "cell_type": "markdown",
   "metadata": {},
   "source": [
    "# Caching\n",
    "In simple terms, an effective caching feature should guarantee \"for the same inputs and code, if this was previously computed, read the stored values instead of recomputing\".\n",
    "\n",
    "In practice, this requires multiple decoupled parts:\n",
    "\n",
    "- **Execution context**: When executing a single node, it uses a specific code version and specific input values. NOTE. the node name is irrelevant to the execution context. This is important for parameterize where multiple parameterization might lead to the same results but different node names.\n",
    "- **Fingerprinting strategy / function**: the function to determine a fingerprint (default is recursive primitive hashing). An example alternative fingerprinting strategy could be to hash the index of a dataframe rather than hash its row content (user is responsible to guarantee unique ids for each row)\n",
    "- **Store**: a generic term for data storage\n",
    "- **Repository**: store for fingerprints and cache metadata. Maps `{execution_context: fingerprint}`. This is the core piece to avoid having to recompute expensive fingerprints on each run. Also, this is not human-readable by default, but the execution_context key can be parsed\n",
    "- **Cache**: store for node results. It's a `{fingerprint: data}` that doesn't know about anything else. The choice of storage affects latency, parallelism, fault tolerance, etc.\n",
    "- **Caching strategy / algorithm**: handles behaviors to decide to compute a node and try to read/write usign the cache"
   ]
  },
  {
   "cell_type": "code",
   "execution_count": 5,
   "metadata": {},
   "outputs": [
    {
     "name": "stdout",
     "output_type": "stream",
     "text": [
      "{'A': 7, 'B': 7.0, 'C': True, 'D': None, 'E': 'hello-world', 'F': {'hello-world': 'hello-worldhello-worldhello-world'}, 'G':       a      b\n",
      "0   323  hello\n",
      "1  3235  vorld}\n"
     ]
    },
    {
     "data": {
      "text/plain": [
       "{'A': 'jxTkX87qFnpaNt7dS-olQw==',\n",
       " 'B': 'Ad7r-oe5OMieyz3LTv_L4g==',\n",
       " 'C': '-CfPRi9ihI3zfF4elKTadA==',\n",
       " 'E': 'IJUxIYl1PeatR9_iDL6X7A==',\n",
       " 'F': 'eOXd-WuG4ZFy8yz1O9NH5uzyw1wzWbsypyuNNw==',\n",
       " 'G': 'TCtsLwovEJ2EIAYt60Q4_w36aBdTnSXVNPQpsA=='}"
      ]
     },
     "execution_count": 5,
     "metadata": {},
     "output_type": "execute_result"
    }
   ],
   "source": [
    "from hamilton.caching import caching\n",
    "\n",
    "cache_adapter = caching.SmartCache()\n",
    "dr = (\n",
    "    driver.Builder()\n",
    "    .with_modules(primitives)\n",
    "    .with_adapters(cache_adapter)\n",
    "    .build()\n",
    ")\n",
    "results = dr.execute([\"A\", \"B\", \"C\", \"D\", \"E\", \"F\", \"G\"])\n",
    "\n",
    "print(results)\n",
    "cache_adapter.run_fingerprints"
   ]
  },
  {
   "cell_type": "code",
   "execution_count": 6,
   "metadata": {},
   "outputs": [
    {
     "name": "stdout",
     "output_type": "stream",
     "text": [
      "{'hello-world': 'hello-worldhello-worldhello-world'}\n"
     ]
    }
   ],
   "source": [
    "# get the store from adapter\n",
    "result_store = cache_adapter.result_store\n",
    "result_store.open()\n",
    "\n",
    "node_name = \"F\"\n",
    "# get the fingerprint from the latest run\n",
    "fingerprint = cache_adapter.run_fingerprints.get(node_name)\n",
    "# get the value from the result_store\n",
    "# NOTE `node_name` is currently required but unused\n",
    "result = result_store.get(key=fingerprint, node_name=node_name)\n",
    "print(result)\n",
    "\n",
    "result_store.close()"
   ]
  },
  {
   "cell_type": "code",
   "execution_count": 7,
   "metadata": {},
   "outputs": [
    {
     "name": "stdout",
     "output_type": "stream",
     "text": [
      "code_version=a5dba266c921b22973b9c21047c98add69a902c49924e647a750c8956dcfa7e2 \n",
      "\n",
      "inputs_fingerprints={'E': 'IJUxIYl1PeatR9_iDL6X7A=='} \n",
      "\n",
      "inputs_encoded=eF5zVfD0Cq3wjMwxDEhNLAmyjM908TGLMHe0tQUAbV0H8g== \n",
      "\n",
      "context={'a5dba266c921b22973b9c21047c98add69a902c49924e647a750c8956dcfa7e2': 'eF5zVfD0Cq3wjMwxDEhNLAmyjM908TGLMHe0tQUAbV0H8g=='} \n",
      "\n",
      "context_encoded=eF4FwUEKwjAQBdCreITpNJnkL7ooVu2iEQTtfjJJlYILQah6et9TX7KyiIGbzIzQZhg35IIhaikCBbE5gF0VFzR4sggvxRYNlXf16H/zMtD+1W5r2j7D4XGe+ud3TaB4PU1prPS+3Po80xjvXfcHAdkgog==\n",
      "retrieved_fingerprint=eOXd-WuG4ZFy8yz1O9NH5uzyw1wzWbsypyuNNw== \n",
      "\n",
      "True \n",
      "\n"
     ]
    }
   ],
   "source": [
    "# get the store from adapter\n",
    "fingerprint_store = cache_adapter.fingerprint_store\n",
    "fingerprint_store.open()\n",
    "\n",
    "node_name = \"F\"\n",
    "# get the code version from the current driver\n",
    "code_version = cache_adapter.code_versions[node_name]\n",
    "print(f\"{code_version=:}\", \"\\n\")\n",
    "# gather the fingerprints for its inputs, which are known before executing `F`\n",
    "node_inputs = [\"E\"]\n",
    "inputs_fingerprints = {\n",
    "    i: cache_adapter.run_fingerprints[i] for i in node_inputs\n",
    "}\n",
    "print(f\"{inputs_fingerprints=:}\", \"\\n\")\n",
    "# encode these fingerprints has a dictionary (reversible operation)\n",
    "inputs_encoded = caching.encode_dict(inputs_fingerprints)\n",
    "print(f\"{inputs_encoded=:}\", \"\\n\")\n",
    "# recreate the \"execution context key\"\n",
    "context = {code_version: inputs_encoded}\n",
    "print(f\"{context=:}\", \"\\n\")\n",
    "context_encoded = caching.encode_dict(context)\n",
    "print(f\"{context_encoded=:}\")\n",
    "\n",
    "# NOTE `node_name` is currently required but unused\n",
    "retrieved_fingerprint = fingerprint_store.get(key=context_encoded, node_name=node_name)\n",
    "print(f\"{retrieved_fingerprint=:}\", \"\\n\")\n",
    "\n",
    "print(retrieved_fingerprint==fingerprint, \"\\n\")\n",
    "\n",
    "fingerprint_store.close()"
   ]
  },
  {
   "cell_type": "markdown",
   "metadata": {},
   "source": [
    "# API Design\n",
    "\n",
    "```python\n",
    "\n",
    "dr = (\n",
    "    driver.Builder()\n",
    "    .with_cache()\n",
    "    .build()\n",
    ")\n",
    "```\n",
    "\n",
    "\n",
    "## Interface\n",
    "```python\n",
    "# ... Builder\n",
    "def with_cache(\n",
    "    self,\n",
    "    fingerprint: Optional[Callable] = None\n",
    "    fingerprint_store: Optional[\"Repository\"] = None\n",
    "    data_repo: Optional[\"Repository\"] = None\n",
    "    ..., # other behavior kwargs like \"recompute\", \"skip\", etc.\n",
    "):\n",
    "    from hamilton.caching import caching\n",
    "    from hamilton.caching import fingerprinting\n",
    "    from hamilton.caching import repository\n",
    "\n",
    "    if fingerprint:\n",
    "        fingerprint = fingerprint\n",
    "    else:\n",
    "        fingerprint = fingerprinting.hash_value\n",
    "\n",
    "    # \"fingerprint repository\" could also be named \"the repository\" i.e., metadata\n",
    "    # used to manage data storage / \"the cache\"\n",
    "    # dbm uses {str | bytes: str | bytes} on disk\n",
    "    fingerprint_store = (\n",
    "        fingerprint_store if fingerprint_store else repository.dbmRepository()\n",
    "    )\n",
    "\n",
    "    # \"result store\" could also be named \"the cache\" i.e., where data is stored\n",
    "    # shelve uses {str | bytes: pickle} on disk\n",
    "    result_store = result_store if result_store else repository.ShelveRepository()\n",
    "\n",
    "    adapter = adapters.CacheAdapter(\n",
    "        fingerprint=fingerprint,\n",
    "        fingerprint_repo=fingerprint_repo,\n",
    "        data_repo=data_repo,\n",
    "        ..., \n",
    "    )\n",
    "    self.adapters.append(adapter)\n",
    "\n",
    "```"
   ]
  },
  {
   "cell_type": "code",
   "execution_count": null,
   "metadata": {},
   "outputs": [],
   "source": []
  }
 ],
 "metadata": {
  "kernelspec": {
   "display_name": "venv",
   "language": "python",
   "name": "python3"
  },
  "language_info": {
   "codemirror_mode": {
    "name": "ipython",
    "version": 3
   },
   "file_extension": ".py",
   "mimetype": "text/x-python",
   "name": "python",
   "nbconvert_exporter": "python",
   "pygments_lexer": "ipython3",
   "version": "3.11.1"
  }
 },
 "nbformat": 4,
 "nbformat_minor": 2
}
