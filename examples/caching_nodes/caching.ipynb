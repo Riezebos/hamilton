{
 "cells": [
  {
   "cell_type": "markdown",
   "metadata": {},
   "source": [
    "# First-class Caching in Hamilton"
   ]
  },
  {
   "cell_type": "code",
   "execution_count": null,
   "metadata": {},
   "outputs": [],
   "source": [
    "import logging\n",
    "\n",
    "logger = logging.getLogger(\"hamilton.caching.fingerprinting\")\n",
    "logger.setLevel(logging.DEBUG)\n",
    "logger.addHandler(logging.StreamHandler())\n",
    "\n",
    "%load_ext hamilton.plugins.jupyter_magic"
   ]
  },
  {
   "cell_type": "markdown",
   "metadata": {},
   "source": [
    "# Fingerprinting\n",
    "Fingerprinting derives an identifier from a data object."
   ]
  },
  {
   "cell_type": "code",
   "execution_count": 2,
   "metadata": {},
   "outputs": [],
   "source": [
    "import pandas as pd\n",
    "from hamilton import driver\n",
    "from hamilton.caching.fingerprinting import FingerprintingAdapter"
   ]
  },
  {
   "cell_type": "code",
   "execution_count": 3,
   "metadata": {},
   "outputs": [],
   "source": [
    "%%cell_to_module primitives\n",
    "import pandas as pd\n",
    "\n",
    "def A() -> int:\n",
    "    return 7\n",
    "\n",
    "def B(A: int) -> float:\n",
    "    return float(A)\n",
    "\n",
    "def C(B: float, D: bool = True) -> bool:\n",
    "    return B != D\n",
    "\n",
    "def E(C: bool) -> str:\n",
    "    return \"hello-world\"\n",
    "\n",
    "def F(E: str) -> dict:\n",
    "    return {E: E*3}\n",
    "\n",
    "def G() -> pd.DataFrame:\n",
    "    return pd.DataFrame({\"a\": [323, 3235], \"b\": [\"hello\", \"vorld\"]})"
   ]
  },
  {
   "cell_type": "code",
   "execution_count": 7,
   "metadata": {},
   "outputs": [
    {
     "data": {
      "text/plain": [
       "{'A': 'jxTkX87qFnpaNt7dS-olQw==',\n",
       " 'B': 'Ad7r-oe5OMieyz3LTv_L4g==',\n",
       " 'C': '-CfPRi9ihI3zfF4elKTadA==',\n",
       " 'E': 'IJUxIYl1PeatR9_iDL6X7A==',\n",
       " 'F': 'eOXd-WuG4ZFy8yz1O9NH5uzyw1wzWbsypyuNNw==',\n",
       " 'G': 'TCtsLwovEJ2EIAYt60Q4_w36aBdTnSXVNPQpsA=='}"
      ]
     },
     "execution_count": 7,
     "metadata": {},
     "output_type": "execute_result"
    }
   ],
   "source": [
    "fingerprint_adapter = FingerprintingAdapter()\n",
    "dr = (\n",
    "    driver.Builder()\n",
    "    .with_modules(primitives)\n",
    "    .with_adapters(fingerprint_adapter)\n",
    "    .build()\n",
    ")\n",
    "dr.execute([\"A\", \"B\", \"C\", \"D\", \"E\", \"F\", \"G\"])\n",
    "\n",
    "fingerprint_adapter.run_fingerprints"
   ]
  },
  {
   "cell_type": "markdown",
   "metadata": {},
   "source": [
    "# Caching"
   ]
  },
  {
   "cell_type": "code",
   "execution_count": null,
   "metadata": {},
   "outputs": [],
   "source": []
  },
  {
   "cell_type": "markdown",
   "metadata": {},
   "source": [
    "# API Design\n",
    "\n",
    "```python\n",
    "\n",
    "dr = (\n",
    "    driver.Builder()\n",
    "    .with_cache()\n",
    "    .build()\n",
    ")\n",
    "```\n",
    "\n",
    "\n",
    "## Interface\n",
    "```python\n",
    "# ... Builder\n",
    "def with_cache(\n",
    "    self,\n",
    "    fingerprint: Optional[Callable] = None\n",
    "    fingerprint_repo: Optional[\"Repository\"] = None\n",
    "    data_repo: Optional[\"Repository\"] = None\n",
    "    ..., # other behavior kwargs like \"recompute\", \"skip\", etc.\n",
    "):\n",
    "    from hamilton.caching import caching\n",
    "    from hamilton.caching import fingerprinting\n",
    "    from hamilton.caching import repository\n",
    "\n",
    "    if fingerprint:\n",
    "        fingerprint = fingerprint\n",
    "    else:\n",
    "        fingerprint = fingerprinting.hash_value\n",
    "\n",
    "    # \"fingerprint repository\" could also be named \"the repository\" i.e., metadata\n",
    "    # used to manage data storage / \"the cache\"\n",
    "    # dbm uses {str | bytes: str | bytes} on disk\n",
    "    fingerprint_repo = (\n",
    "        fingerprint_repo if fingerprint_repo else repository.dbmRepository()\n",
    "    )\n",
    "\n",
    "    # \"data repository\" could also be named \"the cache\" i.e., where data is stored\n",
    "    # shelve uses {str | bytes: pickle} on disk\n",
    "    data_repo = data_repo if data_repo else repository.ShelveRepository()\n",
    "\n",
    "    adapter = adapters.CacheAdapter(\n",
    "        fingerprint=fingerprint,\n",
    "        fingerprint_repo=fingerprint_repo,\n",
    "        data_repo=data_repo,\n",
    "        ..., \n",
    "    )\n",
    "    self.adapters.append(adapter)\n",
    "\n",
    "```"
   ]
  },
  {
   "cell_type": "code",
   "execution_count": null,
   "metadata": {},
   "outputs": [],
   "source": []
  }
 ],
 "metadata": {
  "kernelspec": {
   "display_name": "venv",
   "language": "python",
   "name": "python3"
  },
  "language_info": {
   "codemirror_mode": {
    "name": "ipython",
    "version": 3
   },
   "file_extension": ".py",
   "mimetype": "text/x-python",
   "name": "python",
   "nbconvert_exporter": "python",
   "pygments_lexer": "ipython3",
   "version": "3.11.1"
  }
 },
 "nbformat": 4,
 "nbformat_minor": 2
}
